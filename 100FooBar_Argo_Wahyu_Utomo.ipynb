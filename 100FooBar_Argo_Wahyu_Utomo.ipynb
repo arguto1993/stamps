{
  "nbformat": 4,
  "nbformat_minor": 0,
  "metadata": {
    "colab": {
      "provenance": [],
      "toc_visible": true,
      "authorship_tag": "ABX9TyN2+fXE1Mmus1caGddPD6ZL",
      "include_colab_link": true
    },
    "kernelspec": {
      "name": "python3",
      "display_name": "Python 3"
    },
    "language_info": {
      "name": "python"
    }
  },
  "cells": [
    {
      "cell_type": "markdown",
      "metadata": {
        "id": "view-in-github",
        "colab_type": "text"
      },
      "source": [
        "<a href=\"https://colab.research.google.com/github/arguto1993/stamps/blob/main/100FooBar_Argo_Wahyu_Utomo.ipynb\" target=\"_parent\"><img src=\"https://colab.research.google.com/assets/colab-badge.svg\" alt=\"Open In Colab\"/></a>"
      ]
    },
    {
      "cell_type": "markdown",
      "source": [
        "# Soal"
      ],
      "metadata": {
        "id": "S7aB4au2Q93R"
      }
    },
    {
      "cell_type": "markdown",
      "source": [
        "Tolong buat satu array / list dari 1 sampai 100. Print semua angka ini dalam urutan terbalik, tetapi ada beberapa peraturan :\n",
        "\n",
        "1. Jangan print angka bilangan prima.\n",
        "\n",
        "2. Ganti angka yang dapat dibagi dengan angka 3 dengan text \"Foo\".\n",
        "\n",
        "3. Ganti angka yang dapat dibagi dengan angka 5 dengan text \"Bar\".\n",
        "\n",
        "4. Ganti angka yang dapat dibagi dengan angka 3 dan 5 dengan text \"FooBar\".\n",
        "\n",
        "5. Print angka menyamping tidak ke bawah."
      ],
      "metadata": {
        "id": "QRiGV6czdn42"
      }
    },
    {
      "cell_type": "markdown",
      "source": [
        "# Jawaban"
      ],
      "metadata": {
        "id": "rDUMnXEgRBiZ"
      }
    },
    {
      "cell_type": "code",
      "execution_count": null,
      "metadata": {
        "colab": {
          "base_uri": "https://localhost:8080/"
        },
        "id": "LWHLmmC4cRmI",
        "outputId": "55073e6b-6b93-4b7d-ad89-f3f2863d73a9"
      },
      "outputs": [
        {
          "output_type": "stream",
          "name": "stdout",
          "text": [
            "Bar Foo 98 Foo Bar 94 Foo 92 91 FooBar 88 Foo 86 Bar Foo 82 Foo Bar Foo 77 76 FooBar 74 Foo Bar Foo 68 Foo Bar 64 Foo 62 FooBar 58 Foo 56 Bar Foo 52 Foo Bar 49 Foo 46 FooBar 44 Foo Bar Foo 38 Foo Bar 34 Foo 32 FooBar 28 Foo 26 Bar Foo 22 Foo Bar Foo 16 FooBar 14 Foo Bar Foo 8 Foo 4 1 \n"
          ]
        }
      ],
      "source": [
        "# Definisi array\n",
        "array = list(range(1, 101))\n",
        "\n",
        "# Fungsi untuk mengecek apakah angka adalah bilangan prima\n",
        "def is_prima(angka):\n",
        "  if angka <= 1:\n",
        "    return False\n",
        "  for i in range(2, int(angka**0.5) + 1):\n",
        "    if angka % i == 0:\n",
        "      return False\n",
        "  return True\n",
        "\n",
        "# Fungsi untuk mengecek apakah angka dapat dibagi 3\n",
        "def is_foo(angka):\n",
        "  if angka % 3 == 0:\n",
        "    return True\n",
        "  else:\n",
        "    return False\n",
        "\n",
        "# Fungsi untuk mengecek apakah angka dapat dibagi 5\n",
        "def is_bar(angka):\n",
        "  if angka % 5 == 0:\n",
        "    return True\n",
        "  else:\n",
        "    return False\n",
        "\n",
        "# Fungsi untuk mengecek apakah angka dapat dibagi 3 dan 5\n",
        "def is_foobar(angka):\n",
        "  if is_foo(angka) and is_bar(angka):\n",
        "    return True\n",
        "  else:\n",
        "    return False\n",
        "\n",
        "# Fungsi untuk mencetak array\n",
        "def cetak_array(array):\n",
        "  for i in range(len(array)-1, -1, -1):\n",
        "    if is_prima(array[i]):\n",
        "      continue\n",
        "    elif is_foobar(array[i]):\n",
        "      print(\"FooBar\", end=\" \")\n",
        "      continue\n",
        "    elif is_foo(array[i]):\n",
        "      print(\"Foo\", end=\" \")\n",
        "      continue\n",
        "    elif is_bar(array[i]):\n",
        "      print(\"Bar\", end=\" \")\n",
        "      continue\n",
        "    else:\n",
        "      print(array[i], end=\" \")\n",
        "  print()\n",
        "\n",
        "# Eksekusi fungsi cetak\n",
        "cetak_array(array)"
      ]
    }
  ]
}